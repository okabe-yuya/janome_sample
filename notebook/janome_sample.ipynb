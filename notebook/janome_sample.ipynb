{
 "cells": [
  {
   "cell_type": "markdown",
   "metadata": {},
   "source": [
    "## 形態素解析まで"
   ]
  },
  {
   "cell_type": "code",
   "execution_count": 36,
   "metadata": {},
   "outputs": [],
   "source": [
    "from janome.tokenizer import Tokenizer\n",
    "sample_str = \"手をつないだら行ってみよう\""
   ]
  },
  {
   "cell_type": "code",
   "execution_count": 24,
   "metadata": {},
   "outputs": [
    {
     "data": {
      "text/plain": [
       "[<janome.tokenizer.Token at 0x11643d9b0>,\n",
       " <janome.tokenizer.Token at 0x11643d5c0>,\n",
       " <janome.tokenizer.Token at 0x11643d780>,\n",
       " <janome.tokenizer.Token at 0x11643d4a8>,\n",
       " <janome.tokenizer.Token at 0x11643d6d8>,\n",
       " <janome.tokenizer.Token at 0x11643d470>,\n",
       " <janome.tokenizer.Token at 0x11643d6a0>,\n",
       " <janome.tokenizer.Token at 0x11643d978>]"
      ]
     },
     "execution_count": 24,
     "metadata": {},
     "output_type": "execute_result"
    }
   ],
   "source": [
    "t = Tokenizer()\n",
    "res = t.tokenize(sample_str)\n",
    "res"
   ]
  },
  {
   "cell_type": "code",
   "execution_count": 25,
   "metadata": {},
   "outputs": [
    {
     "name": "stdout",
     "output_type": "stream",
     "text": [
      "手\t名詞,一般,*,*,*,*,手,テ,テ\n",
      "を\t助詞,格助詞,一般,*,*,*,を,ヲ,ヲ\n",
      "つない\t動詞,自立,*,*,五段・ガ行,連用タ接続,つなぐ,ツナイ,ツナイ\n",
      "だら\t助動詞,*,*,*,特殊・タ,仮定形,だ,ダラ,ダラ\n",
      "行っ\t動詞,自立,*,*,五段・カ行促音便,連用タ接続,行く,イッ,イッ\n",
      "て\t助詞,接続助詞,*,*,*,*,て,テ,テ\n",
      "みよ\t動詞,非自立,*,*,一段,未然ウ接続,みる,ミヨ,ミヨ\n",
      "う\t助動詞,*,*,*,不変化型,基本形,う,ウ,ウ\n"
     ]
    }
   ],
   "source": [
    "for r in res:\n",
    "    print(r)"
   ]
  },
  {
   "cell_type": "markdown",
   "metadata": {},
   "source": [
    "## 品詞情報の取得と特定品詞の単語のみの抽出"
   ]
  },
  {
   "cell_type": "code",
   "execution_count": 26,
   "metadata": {},
   "outputs": [
    {
     "data": {
      "text/plain": [
       "'名詞,一般,*,*'"
      ]
     },
     "execution_count": 26,
     "metadata": {},
     "output_type": "execute_result"
    }
   ],
   "source": [
    "res[0].part_of_speech"
   ]
  },
  {
   "cell_type": "code",
   "execution_count": 27,
   "metadata": {},
   "outputs": [
    {
     "data": {
      "text/plain": [
       "['名詞', '助詞', '動詞', '助動詞', '動詞', '助詞', '動詞', '助動詞']"
      ]
     },
     "execution_count": 27,
     "metadata": {},
     "output_type": "execute_result"
    }
   ],
   "source": [
    "[f.part_of_speech.split(\",\")[0] for f in res]"
   ]
  },
  {
   "cell_type": "code",
   "execution_count": 28,
   "metadata": {
    "scrolled": true
   },
   "outputs": [
    {
     "data": {
      "text/plain": [
       "['手']"
      ]
     },
     "execution_count": 28,
     "metadata": {},
     "output_type": "execute_result"
    }
   ],
   "source": [
    "# 1つの品詞だけ\n",
    "[token.surface for token in res if token.part_of_speech.split(\",\")[0] == u\"名詞\"]"
   ]
  },
  {
   "cell_type": "code",
   "execution_count": 29,
   "metadata": {},
   "outputs": [
    {
     "data": {
      "text/plain": [
       "['手', 'つない', '行っ', 'みよ']"
      ]
     },
     "execution_count": 29,
     "metadata": {},
     "output_type": "execute_result"
    }
   ],
   "source": [
    "# 複数の品詞\n",
    "target = [u\"名詞\", u\"動詞\"]\n",
    "[token.surface for token in res if token.part_of_speech.split(\",\")[0] in target]"
   ]
  },
  {
   "cell_type": "markdown",
   "metadata": {},
   "source": [
    "## 関数化"
   ]
  },
  {
   "cell_type": "code",
   "execution_count": 30,
   "metadata": {},
   "outputs": [],
   "source": [
    "# type of function\n",
    "def parser(value_str, tag=u\"名詞\"):\n",
    "    t = Tokenizer()\n",
    "    res = t.tokenize(value_str)\n",
    "    if isinstance(tag, list):\n",
    "        return [token.surface for token in res if token.part_of_speech.split(\",\")[0] in tag]\n",
    "    else:\n",
    "        return [token.surface for token in res if token.part_of_speech.split(\",\")[0] == tag]\n",
    "    \n",
    "# type of class's function\n",
    "class JanomeParser:\n",
    "    def __init__(self):\n",
    "        self.t = Tokenizer()\n",
    "        \n",
    "    def parser(self, value_str, tag=u\"名詞\"):\n",
    "        res = self.t.tokenize(value_str)\n",
    "        if isinstance(tag, list):\n",
    "            return [token.surface for token in res if token.part_of_speech.split(\",\")[0] in tag]\n",
    "        else:\n",
    "            return [token.surface for token in res if token.part_of_speech.split(\",\")[0] == tag]"
   ]
  },
  {
   "cell_type": "code",
   "execution_count": 31,
   "metadata": {},
   "outputs": [
    {
     "data": {
      "text/plain": [
       "['手']"
      ]
     },
     "execution_count": 31,
     "metadata": {},
     "output_type": "execute_result"
    }
   ],
   "source": [
    "parser(sample_str)"
   ]
  },
  {
   "cell_type": "code",
   "execution_count": 32,
   "metadata": {},
   "outputs": [
    {
     "data": {
      "text/plain": [
       "['手']"
      ]
     },
     "execution_count": 32,
     "metadata": {},
     "output_type": "execute_result"
    }
   ],
   "source": [
    "t = JanomeParser()\n",
    "t.parser(sample_str)"
   ]
  },
  {
   "cell_type": "markdown",
   "metadata": {},
   "source": [
    "## ユーザー辞書の作成"
   ]
  },
  {
   "cell_type": "code",
   "execution_count": 91,
   "metadata": {},
   "outputs": [
    {
     "name": "stdout",
     "output_type": "stream",
     "text": [
      "Requirement already satisfied: pandas in /anaconda3/lib/python3.6/site-packages (0.23.0)\n",
      "Requirement already satisfied: python-dateutil>=2.5.0 in /anaconda3/lib/python3.6/site-packages (from pandas) (2.6.1)\n",
      "Requirement already satisfied: pytz>=2011k in /anaconda3/lib/python3.6/site-packages (from pandas) (2018.5)\n",
      "Requirement already satisfied: numpy>=1.9.0 in /anaconda3/lib/python3.6/site-packages (from pandas) (1.14.3)\n",
      "Requirement already satisfied: six>=1.5 in /anaconda3/lib/python3.6/site-packages (from python-dateutil>=2.5.0->pandas) (1.11.0)\n",
      "\u001b[33mYou are using pip version 19.0.2, however version 20.0.2 is available.\n",
      "You should consider upgrading via the 'pip install --upgrade pip' command.\u001b[0m\n"
     ]
    }
   ],
   "source": [
    "!pip install pandas"
   ]
  },
  {
   "cell_type": "code",
   "execution_count": 115,
   "metadata": {},
   "outputs": [],
   "source": [
    "words = [\"果てない思い\", \"ウルトラソウル\"]\n",
    "create_user_dic(words, \"B'z_dic\")"
   ]
  },
  {
   "cell_type": "code",
   "execution_count": 113,
   "metadata": {},
   "outputs": [],
   "source": [
    "# utils\n",
    "import pandas as pd\n",
    "\n",
    "def create_user_dic(words, dic_name):\n",
    "    \"\"\"\n",
    "      TASK: 指定された単語群からJanome指定のユーザー辞書.csvファイルを作成する\n",
    "      words: []string -> 辞書に登録したい単語群\n",
    "      dic_name: string -> __.csvに該当するファイル名\n",
    "      return void\n",
    "    \"\"\"\n",
    "    df = words_to_df(words)\n",
    "    df = to_janome_csv_style(df)\n",
    "    save_df_to_csv(df, dic_name)\n",
    "\n",
    "def words_to_df(words):\n",
    "    \"\"\"\n",
    "      TASK: 単語リストをpandas.DataFrame形式に変換する\n",
    "      wrods: []string -> 対象の単語群\n",
    "      return pandas.DataFrame\n",
    "    \"\"\"\n",
    "    to_df_list = [[w] for w in words]\n",
    "    return pd.DataFrame(words, columns=[\"単語\"])\n",
    "\n",
    "def to_janome_csv_style(df):\n",
    "    \"\"\"\n",
    "      TASK: 読み込まれたdfをjanomeが指定するユーザー辞書.csv形式に変換する\n",
    "      df: pandas.DataFrame -> 単語リストから生成されたdf\n",
    "      return pandas.DataFrame\n",
    "    \"\"\"\n",
    "    return df.assign(\n",
    "    a=df.pipe(lambda df: -1),\n",
    "    b=df.pipe(lambda df: -1),\n",
    "    c=df.pipe(lambda df: 1000),\n",
    "    d=df.pipe(lambda df: \"名詞\"),\n",
    "    e=df.pipe(lambda df: \"一般\"),\n",
    "    f=df.pipe(lambda df: \"*\"),\n",
    "    g=df.pipe(lambda df: \"*\"),\n",
    "    h=df.pipe(lambda df: \"*\"),\n",
    "    i=df.pipe(lambda df: \"*\"),\n",
    "    j=df.pipe(lambda df: df[\"単語\"]),\n",
    "    k=df.pipe(lambda df: \"*\"),\n",
    "    l=df.pipe(lambda df: \"*\"),\n",
    ")\n",
    "\n",
    "def save_df_to_csv(df, file_name):\n",
    "    \"\"\"\n",
    "      TASK: dfを.csv形式で保存する\n",
    "      df: pandas.DataFrame -> to_janome_csv_style()の戻り値のdf\n",
    "      file_name: ファイルの保存名(拡張子は含まない)\n",
    "      return void\n",
    "    \"\"\"\n",
    "    df.to_csv(f\"{file_name}.csv\", header=False, index=False, encoding=\"cp932\")"
   ]
  },
  {
   "cell_type": "markdown",
   "metadata": {},
   "source": [
    "## ユーザー辞書の読み込み"
   ]
  },
  {
   "cell_type": "code",
   "execution_count": 116,
   "metadata": {},
   "outputs": [
    {
     "name": "stdout",
     "output_type": "stream",
     "text": [
      "B'z_dic.csv         janome_sample.ipynb\r\n"
     ]
    }
   ],
   "source": [
    "!ls"
   ]
  },
  {
   "cell_type": "code",
   "execution_count": 117,
   "metadata": {},
   "outputs": [],
   "source": [
    "USER_DIC_PATH = \"B'z_dic.csv\""
   ]
  },
  {
   "cell_type": "code",
   "execution_count": 118,
   "metadata": {},
   "outputs": [],
   "source": [
    "def parser(value_str, dic_path, tag=u\"名詞\"):\n",
    "    \n",
    "    t = Tokenizer(USER_DIC_PATH, udic_enc=\"cp932\")\n",
    "    res = t.tokenize(value_str)\n",
    "    if isinstance(tag, list):\n",
    "        return [token.surface for token in res if token.part_of_speech.split(\",\")[0] in tag]\n",
    "    else:\n",
    "        return [token.surface for token in res if token.part_of_speech.split(\",\")[0] == tag]"
   ]
  },
  {
   "cell_type": "code",
   "execution_count": 119,
   "metadata": {},
   "outputs": [
    {
     "data": {
      "text/plain": [
       "['果てない思い']"
      ]
     },
     "execution_count": 119,
     "metadata": {},
     "output_type": "execute_result"
    }
   ],
   "source": [
    "parser(\"果てない思い\")"
   ]
  },
  {
   "cell_type": "code",
   "execution_count": 120,
   "metadata": {
    "scrolled": false
   },
   "outputs": [
    {
     "data": {
      "text/plain": [
       "['ウルトラソウル']"
      ]
     },
     "execution_count": 120,
     "metadata": {},
     "output_type": "execute_result"
    }
   ],
   "source": [
    "parser(\"ウルトラソウル\")"
   ]
  },
  {
   "cell_type": "markdown",
   "metadata": {},
   "source": [
    "## ベンチマーク"
   ]
  },
  {
   "cell_type": "code",
   "execution_count": 83,
   "metadata": {},
   "outputs": [],
   "source": [
    "import time\n",
    "TRY_NUM = 10000"
   ]
  },
  {
   "cell_type": "code",
   "execution_count": 84,
   "metadata": {},
   "outputs": [
    {
     "name": "stdout",
     "output_type": "stream",
     "text": [
      "[info] average time: 0.08182s\n"
     ]
    }
   ],
   "source": [
    "# type of function\n",
    "results = [common_exec(sample_str, lambda x: parser(x)) for _ in range(0, TRY_NUM)]\n",
    "print(\"[info] average time: {0:.5f}s\".format(calc_average(results)))"
   ]
  },
  {
   "cell_type": "code",
   "execution_count": 85,
   "metadata": {},
   "outputs": [
    {
     "name": "stdout",
     "output_type": "stream",
     "text": [
      "[info] average time: 0.08891s\n"
     ]
    }
   ],
   "source": [
    "# type of class's function\n",
    "# instanceを作るところから記録\n",
    "start_at = time.time()\n",
    "j_p = JanomeParser()\n",
    "end_at = time.time()\n",
    "elapsed_time_create_instance = end_at - start_at\n",
    "\n",
    "results = [common_exec(sample_str, lambda x: j_p.parser(x)) for _ in range(0, TRY_NUM)]\n",
    "print(\"[info] average time: {0:.5f}s\".format(calc_average(results) + elapsed_time_create_instance))"
   ]
  },
  {
   "cell_type": "code",
   "execution_count": 71,
   "metadata": {},
   "outputs": [],
   "source": [
    "# for benchmark utils function\n",
    "def common_exec(value_str, func):\n",
    "    \"\"\"\n",
    "      TASK: 対象の関数の実行にかかった時間を算出\n",
    "      value_str: string -> 対象の文章\n",
    "      func: func(string)[]string -> 形態素解析を行う関数\n",
    "      return []float\n",
    "    \"\"\"\n",
    "    # 時間記録のために現在時刻を取得\n",
    "    start_at = time.time()\n",
    "    \n",
    "    # 無名関数として渡されてきた対象の関数を実行\n",
    "    func(value_str)\n",
    "    end_at = time.time()\n",
    "    \n",
    "    # 終了時間との差分を算出\n",
    "    return end_at - start_at\n",
    "\n",
    "def calc_average(results):\n",
    "    \"\"\"\n",
    "      TASK: []int, []float 配列から平均値を算出\n",
    "      results: []int, []float -> 記録地をまとめた配列\n",
    "      return float\n",
    "    \"\"\"\n",
    "    return sum(results) / len(results)"
   ]
  },
  {
   "cell_type": "code",
   "execution_count": null,
   "metadata": {},
   "outputs": [],
   "source": []
  }
 ],
 "metadata": {
  "kernelspec": {
   "display_name": "Python 3",
   "language": "python",
   "name": "python3"
  },
  "language_info": {
   "codemirror_mode": {
    "name": "ipython",
    "version": 3
   },
   "file_extension": ".py",
   "mimetype": "text/x-python",
   "name": "python",
   "nbconvert_exporter": "python",
   "pygments_lexer": "ipython3",
   "version": "3.6.4"
  }
 },
 "nbformat": 4,
 "nbformat_minor": 2
}
